{
  "nbformat": 4,
  "nbformat_minor": 0,
  "metadata": {
    "colab": {
      "provenance": [],
      "gpuType": "T4",
      "authorship_tag": "ABX9TyPH5xtzSZcWy+vGSL1iE6hH",
      "include_colab_link": true
    },
    "kernelspec": {
      "name": "python3",
      "display_name": "Python 3"
    },
    "language_info": {
      "name": "python"
    },
    "accelerator": "GPU"
  },
  "cells": [
    {
      "cell_type": "markdown",
      "metadata": {
        "id": "view-in-github",
        "colab_type": "text"
      },
      "source": [
        "<a href=\"https://colab.research.google.com/github/charbull/build-nanogpt/blob/master/understanding_gpt2.ipynb\" target=\"_parent\"><img src=\"https://colab.research.google.com/assets/colab-badge.svg\" alt=\"Open In Colab\"/></a>"
      ]
    },
    {
      "cell_type": "code",
      "execution_count": 15,
      "metadata": {
        "id": "xHzcLl8k0Pm8"
      },
      "outputs": [],
      "source": [
        "from dataclasses import dataclass\n",
        "import torch\n",
        "import torch.nn as nn\n",
        "import torch.nn.functional as F\n",
        "import math"
      ]
    },
    {
      "cell_type": "code",
      "source": [
        "# this config is based on the output from the gpt2 transformer from huggingface. https://colab.research.google.com/drive/1UZmJvW2w_h3GacbwaOLzXiKMzBeU087H#scrollTo=w5I-SpEJurn4&line=3&uniqifier=1\n",
        "@dataclass\n",
        "class GPTConfig:\n",
        "  block_size: int = 1024 # max sequence length\n",
        "  vocab_size: int = 50257 # number of tokens: 50,000 BPE merges + 256 bytes tokens + 1 <|endoftext|> token\n",
        "  n_layer: int = 12 # number of layers\n",
        "  n_head: int = 12 # number of heads\n",
        "  n_embd: int = 768 # embedding dimension\n",
        "\n",
        "class CausalSelfAttention(nn.Module):\n",
        "  def __init__(self, config):\n",
        "    super().__init__()\n",
        "    assert config.n_embd % config.n_head == 0\n",
        "    # key, query, value projections for all heads but in a batch\n",
        "    self.c_attn = nn.Linear(config.n_embd, 3 * config.n_embd)\n",
        "    # output projection\n",
        "    self.c_proj = nn.Linear(config.n_embd, config.n_embd)\n",
        "    # regularisation\n",
        "    self.n_head = config.n_head\n",
        "    self.n_embd = config.n_embd\n",
        "    # not really a bias, more of a mask, but following openAI/HF naming\n",
        "    self.register_buffer(\"bias\", torch.tril(torch.ones(config.block_size, config.block_size)).view(1, 1, config.block_size, config.block_size))\n",
        "\n",
        "  def forward(self, x):\n",
        "    B, T, C = x.size() # batch size, sequence length, embedding dimensionality (n_embed)\n",
        "    # calculate query, key, values for all heads in batch and move head forward to be the batch dim\n",
        "    # nh is the number of heads, hs is the head size, and C is the number of channels = nh * has\n",
        "    # e.g. in GPT-2 (124M), n_head = 12, hs=64, so nh*hs = C = 768 channels in the Transformer.\n",
        "    qkv = self.c_attn(x)\n",
        "    q, k, v = qkv.split(self.n_embd, dim=2)\n",
        "    k = k.view(B, T, self.n_head, C // self.n_head).transpose(1, 2) # (B, nh, T, hs)\n",
        "    q = q.view(B, T, self.n_head, C // self.n_head).transpose(1, 2) # (B, nh, T, hs)\n",
        "    v = v.view(B, T, self.n_head, C // self.n_head).transpose(1, 2) # (B, nh, T, hs)\n",
        "    # attention (materializes the large (T, T) matrix for all the queries and keys)\n",
        "    att = (q @ k.transpose(-2, -1)) * (1.0 / math.sqrt(k.size(-1)))\n",
        "    att = att.masked_fill(self.bias[:,:,:T,:T] == 0, float('-inf'))\n",
        "    att = F.softmax(att, dim=-1)\n",
        "    y = att @ v # (B, nh, T, T) x (B, nh, T, hs) -> (B, nh, T, hs)\n",
        "    y = y.transpose(1, 2).contiguous().view(B, T, C) # reassemble all the head outputs side by side\n",
        "    # output projection\n",
        "    y = self.c_proj(y)\n",
        "    return y\n",
        "\n",
        "class MLP(nn.Module):\n",
        "  def __init__(self, config):\n",
        "    super().__init__()\n",
        "    self.c_fc = nn.Linear(config.n_embd, 4 * config.n_embd)\n",
        "    self.gelu = nn.GELU(approximate='tanh')\n",
        "    self.c_proj = nn.Linear(4 * config.n_embd, config.n_embd)\n",
        "\n",
        "  def forward(self, x):\n",
        "    x = self.c_fc(x)\n",
        "    x = self.gelu(x)\n",
        "    x = self.c_proj(x)\n",
        "    return x\n",
        "\n",
        "class Block(nn.Module):\n",
        "  def __init__(self, config):\n",
        "    super().__init__()\n",
        "    self.ln_1 = nn.LayerNorm(config.n_embd)\n",
        "    self.attn = CausalSelfAttention(config)\n",
        "    self.ln_2 = nn.LayerNorm(config.n_embd)\n",
        "    self.mlp = MLP(config)\n",
        "\n",
        "  def forward(self, x):\n",
        "    x = x + self.attn(self.ln_1(x)) # communication happens here, (reduce)\n",
        "    x = x + self.mlp(self.ln_2(x)) # they think of the information they got. (map)\n",
        "    return x\n",
        "\n"
      ],
      "metadata": {
        "id": "Q8Ls2yio0ZKe"
      },
      "execution_count": 16,
      "outputs": []
    },
    {
      "cell_type": "code",
      "source": [
        "class GPT(nn.Module):\n",
        "\n",
        "  def __init__(self, config):\n",
        "    super().__init__()\n",
        "    self.config = config\n",
        "\n",
        "    self.transformer = nn.ModuleDict(dict(\n",
        "        wte = nn.Embedding(config.vocab_size, config.n_embd),\n",
        "        wpe = nn.Embedding(config.block_size, config.n_embd),\n",
        "        h = nn.ModuleList([Block(config) for _ in range(config.n_layer)]),\n",
        "        ln_f = nn.LayerNorm(config.n_embd)\n",
        "    ))\n",
        "    self.lm_head = nn.Linear(config.n_embd, config.vocab_size, bias=False)\n",
        "\n",
        "  @classmethod\n",
        "  def from_pretrained(cls, model_type):\n",
        "    \"\"\"Loads pretrained GPT-2 model weights from huggingface\"\"\"\n",
        "    assert model_type in {'gpt2', 'gpt2-medium', 'gpt2-large', 'gpt2-xl'}\n",
        "    from transformers import GPT2LMHeadModel\n",
        "    print(\"loading weights from pretrained gpt: %s\" % model_type)\n",
        "\n",
        "    # n_layer, n_head and n_embd are determined from model_type\n",
        "    config_args = {\n",
        "              'gpt2':         dict(n_layer=12, n_head=12, n_embd=768),  # 124M params\n",
        "              'gpt2-medium':  dict(n_layer=24, n_head=16, n_embd=1024), # 350M params\n",
        "              'gpt2-large':   dict(n_layer=36, n_head=20, n_embd=1280), # 774M params\n",
        "              'gpt2-xl':      dict(n_layer=48, n_head=25, n_embd=1600), # 1558M params\n",
        "    }[model_type]\n",
        "    config_args['vocab_size'] = 50257 # always 50257 for GPT model checkpoints\n",
        "    config_args['block_size'] = 1024 # always 1024 for GPT model checkpoints\n",
        "    # create a from-scratch initialized minGPT model\n",
        "    config = GPTConfig(**config_args)\n",
        "    model = GPT(config)\n",
        "    sd = model.state_dict()\n",
        "    sd_keys = sd.keys()\n",
        "    sd_keys = [k for k in sd_keys if not k.endswith('.attn.bias')] # discard this mask / buffer, not a param\n",
        "\n",
        "    # init a huggingface/transformers model\n",
        "    model_hf = GPT2LMHeadModel.from_pretrained(model_type)\n",
        "    sd_hf = model_hf.state_dict()\n",
        "\n",
        "    # copy while ensuring all of the parameters are aligned and match in names and shapes\n",
        "    sd_keys_hf = sd_hf.keys()\n",
        "    sd_keys_hf = [k for k in sd_keys_hf if not k.endswith('.attn.masked_bias')] # ignore these, just a buffer\n",
        "    sd_keys_hf = [k for k in sd_keys_hf if not k.endswith('.attn.bias')] # same, just the mask (buffer)\n",
        "    transposed = ['attn.c_attn.weight', 'attn.c_proj.weight', 'mlp.c_fc.weight', 'mlp.c_proj.weight']\n",
        "    # basically the openai checkpoints use a \"Conv1D\" module, but we only want to use a vanilla Linear\n",
        "    # this means that we have to transpose these weights when we import them\n",
        "    assert len(sd_keys_hf) == len(sd_keys), f\"mismatched keys: {len(sd_keys_hf)} != {len(sd_keys)}\"\n",
        "    for k in sd_keys_hf:\n",
        "      if any(k.endswith(w) for w in transposed):\n",
        "      # special treatment for the Conv1D weights we need to transpose\n",
        "        assert sd_hf[k].shape[::-1] == sd[k].shape\n",
        "        with torch.no_grad():\n",
        "          sd[k].copy_(sd_hf[k].t())\n",
        "      else:\n",
        "        # vanilla copy over the other parameters\n",
        "        assert sd_hf[k].shape == sd[k].shape\n",
        "        with torch.no_grad():\n",
        "          sd[k].copy_(sd_hf[k])\n",
        "    return model\n",
        "\n",
        "  def forward(self, idx):\n",
        "    \"\"\"\n",
        "    idx and targets are both (B, T) tensor of integers\n",
        "    \"\"\"\n",
        "    # idx is of shape (B, T)\n",
        "    B, T = idx.size()\n",
        "    assert T <= self.config.block_size, f\"Cannot forward sequence of length {T}, block size is only {self.config.block_size}\"\n",
        "    # forward the token and posisition embeddings\n",
        "    pos = torch.arange(0, T, dtype=torch.long, device=idx.device) # shape (T)\n",
        "    pos_emb = self.transformer.wpe(pos) # position embeddings of shape (T, n_embd)\n",
        "    tok_emb = self.transformer.wte(idx) # token embeddings of shape (B, T, n_embd)\n",
        "    x = tok_emb + pos_emb\n",
        "    # forward the blocks of the transformer\n",
        "    for block in self.transformer.h:\n",
        "      x = block(x)\n",
        "    # forward the final layernorm and the classifier\n",
        "    x = self.transformer.ln_f(x)\n",
        "    logits = self.lm_head(x) # (B, T, vocab_size)\n",
        "    return logits"
      ],
      "metadata": {
        "id": "gmfwGDxY0_r9"
      },
      "execution_count": 39,
      "outputs": []
    },
    {
      "cell_type": "markdown",
      "source": [
        "## With HF weights initialization"
      ],
      "metadata": {
        "id": "523PJiOTNi0O"
      }
    },
    {
      "cell_type": "code",
      "source": [
        "print('loading the weights from huggingface into our model which mirrors hf')\n",
        "model = GPT.from_pretrained('gpt2')\n",
        "print('didnt crash')"
      ],
      "metadata": {
        "colab": {
          "base_uri": "https://localhost:8080/"
        },
        "id": "2IejCwEgCl8A",
        "outputId": "37bea7ac-dec1-41c4-d144-a6b92234ff03"
      },
      "execution_count": 40,
      "outputs": [
        {
          "output_type": "stream",
          "name": "stdout",
          "text": [
            "loading the weights from hugging face into our model which mirrors hf\n",
            "loading weights from pretrained gpt: gpt2\n",
            "didnt crash\n"
          ]
        }
      ]
    },
    {
      "cell_type": "markdown",
      "source": [
        "## Let's do a forward pass"
      ],
      "metadata": {
        "id": "yN6RYsGYFWOL"
      }
    },
    {
      "cell_type": "code",
      "source": [
        "model.eval() # put it in evaluation mode as in inference\n",
        "model.to('cuda') # move the model to GPU"
      ],
      "metadata": {
        "colab": {
          "base_uri": "https://localhost:8080/"
        },
        "id": "2voAaT87Cqqr",
        "outputId": "095d50f8-8fc3-48ef-ad52-b51544c3fb81"
      },
      "execution_count": 41,
      "outputs": [
        {
          "output_type": "execute_result",
          "data": {
            "text/plain": [
              "GPT(\n",
              "  (transformer): ModuleDict(\n",
              "    (wte): Embedding(50257, 768)\n",
              "    (wpe): Embedding(1024, 768)\n",
              "    (h): ModuleList(\n",
              "      (0-11): 12 x Block(\n",
              "        (ln_1): LayerNorm((768,), eps=1e-05, elementwise_affine=True)\n",
              "        (attn): CausalSelfAttention(\n",
              "          (c_attn): Linear(in_features=768, out_features=2304, bias=True)\n",
              "          (c_proj): Linear(in_features=768, out_features=768, bias=True)\n",
              "        )\n",
              "        (ln_2): LayerNorm((768,), eps=1e-05, elementwise_affine=True)\n",
              "        (mlp): MLP(\n",
              "          (c_fc): Linear(in_features=768, out_features=3072, bias=True)\n",
              "          (gelu): GELU(approximate='tanh')\n",
              "          (c_proj): Linear(in_features=3072, out_features=768, bias=True)\n",
              "        )\n",
              "      )\n",
              "    )\n",
              "    (ln_f): LayerNorm((768,), eps=1e-05, elementwise_affine=True)\n",
              "  )\n",
              "  (lm_head): Linear(in_features=768, out_features=50257, bias=False)\n",
              ")"
            ]
          },
          "metadata": {},
          "execution_count": 41
        }
      ]
    },
    {
      "cell_type": "markdown",
      "source": [
        "## Tokenization\n",
        "\n",
        "We need to import the tokenizer to tokenize the input text, this is a pre-processing part."
      ],
      "metadata": {
        "id": "YbZrp4tFGH5_"
      }
    },
    {
      "cell_type": "code",
      "source": [
        "!pip install tiktoken"
      ],
      "metadata": {
        "colab": {
          "base_uri": "https://localhost:8080/"
        },
        "id": "gQ3eo8DoHo5o",
        "outputId": "40532aa0-987d-48a8-fd71-bf79db6fa9a3"
      },
      "execution_count": 20,
      "outputs": [
        {
          "output_type": "stream",
          "name": "stdout",
          "text": [
            "Requirement already satisfied: tiktoken in /usr/local/lib/python3.10/dist-packages (0.7.0)\n",
            "Requirement already satisfied: regex>=2022.1.18 in /usr/local/lib/python3.10/dist-packages (from tiktoken) (2024.5.15)\n",
            "Requirement already satisfied: requests>=2.26.0 in /usr/local/lib/python3.10/dist-packages (from tiktoken) (2.32.3)\n",
            "Requirement already satisfied: charset-normalizer<4,>=2 in /usr/local/lib/python3.10/dist-packages (from requests>=2.26.0->tiktoken) (3.3.2)\n",
            "Requirement already satisfied: idna<4,>=2.5 in /usr/local/lib/python3.10/dist-packages (from requests>=2.26.0->tiktoken) (3.7)\n",
            "Requirement already satisfied: urllib3<3,>=1.21.1 in /usr/local/lib/python3.10/dist-packages (from requests>=2.26.0->tiktoken) (2.0.7)\n",
            "Requirement already satisfied: certifi>=2017.4.17 in /usr/local/lib/python3.10/dist-packages (from requests>=2.26.0->tiktoken) (2024.7.4)\n"
          ]
        }
      ]
    },
    {
      "cell_type": "code",
      "source": [
        "num_return_sequences = 5\n",
        "max_length = 30\n",
        "\n",
        "import tiktoken\n",
        "enc = tiktoken.get_encoding(\"gpt2\")\n",
        "tokens = enc.encode(\"Hello, I am a language model, \")\n",
        "print(\"Single example: \", tokens)\n",
        "tokens = torch.tensor(tokens, dtype=torch.long) # (8,) put them in pytorch\n",
        "tokens = tokens.unsqueeze(0).repeat(num_return_sequences, 1) # (5, 8) we want to generate 5x responses from 5 examples\n",
        "x = tokens.to('cuda') # move them to GPU\n",
        "print(x)\n",
        "# x is the idx"
      ],
      "metadata": {
        "colab": {
          "base_uri": "https://localhost:8080/"
        },
        "id": "l7zJy4fKFRXs",
        "outputId": "6fa419c9-bd9a-41e3-f98f-80779d90affc"
      },
      "execution_count": 47,
      "outputs": [
        {
          "output_type": "stream",
          "name": "stdout",
          "text": [
            "Single example:  [15496, 11, 314, 716, 257, 3303, 2746, 11, 220]\n",
            "tensor([[15496,    11,   314,   716,   257,  3303,  2746,    11,   220],\n",
            "        [15496,    11,   314,   716,   257,  3303,  2746,    11,   220],\n",
            "        [15496,    11,   314,   716,   257,  3303,  2746,    11,   220],\n",
            "        [15496,    11,   314,   716,   257,  3303,  2746,    11,   220],\n",
            "        [15496,    11,   314,   716,   257,  3303,  2746,    11,   220]],\n",
            "       device='cuda:0')\n"
          ]
        }
      ]
    },
    {
      "cell_type": "markdown",
      "source": [
        "## Generate\n",
        "right now x is (B, T) where B=5 (number of batches) and T=8 the sequence length/"
      ],
      "metadata": {
        "id": "zmYxcXzhIn4c"
      }
    },
    {
      "cell_type": "code",
      "source": [
        "torch.manual_seed(42)\n",
        "torch.cuda.manual_seed(42)\n",
        "while x.size(1) < max_length:\n",
        "  # forward the model to get the logits\n",
        "  with torch.no_grad():\n",
        "    logits = model(x) # (B, T, vocab_size)\n",
        "    # take the logits at the last position\n",
        "    logits = logits[:, -1, :] # (B, vocab_size)\n",
        "    # apply softmax to get probabilities\n",
        "    probs = F.softmax(logits, dim=-1) # (B, vocab_size)\n",
        "    # do top-k sampling of 50 (huggingface pipeline default)\n",
        "    # topk_probs here becomes (5, 50), topk_indices is (5, 50)\n",
        "    topk_probs, topk_indices = torch.topk(probs, k=50, dim=-1)\n",
        "    # select a token from the top-k probabilities\n",
        "    ix = torch.multinomial(topk_probs, num_samples=1) # (B, 1)\n",
        "    # gather the corresponding indices\n",
        "    xcol = torch.gather(topk_indices, dim=-1, index=ix) # (B, 1)\n",
        "    # append the token to the sequence\n",
        "    x = torch.cat((x, xcol), dim=1) # (B, T+1)"
      ],
      "metadata": {
        "id": "dJSgT1k9HfcR"
      },
      "execution_count": 48,
      "outputs": []
    },
    {
      "cell_type": "markdown",
      "source": [
        "## Print the generated text"
      ],
      "metadata": {
        "id": "0YTGIBmQLepm"
      }
    },
    {
      "cell_type": "code",
      "source": [
        "for i in range(num_return_sequences):\n",
        "  tokens = x[i, :max_length].tolist()\n",
        "  decoded = enc.decode(tokens)\n",
        "  print(\"> \", decoded)"
      ],
      "metadata": {
        "colab": {
          "base_uri": "https://localhost:8080/"
        },
        "id": "UmKT1jupJibe",
        "outputId": "35fbd39d-5af1-4c5e-a353-8a678708f3d5"
      },
      "execution_count": 49,
      "outputs": [
        {
          "output_type": "stream",
          "name": "stdout",
          "text": [
            ">  Hello, I am a language model,  and that is what I will describe about Python. Let me just note a few examples.  \n",
            ">  Hello, I am a language model, iphone , and a human, no matter where those \"isms\" overlap.\n",
            "The way to express\n",
            ">  Hello, I am a language model, !!!\n",
            "\n",
            "Please remember - any way you think you can express it.\n",
            "\n",
            "~The author\n",
            "\n",
            ">  Hello, I am a language model,  (more or less)  a self-contained collection of code, usually compiled by a C\n",
            ">  Hello, I am a language model,  so it must be well-trained. And how do you do that? It seems to me,\n"
          ]
        }
      ]
    },
    {
      "cell_type": "markdown",
      "source": [
        "# Without HF weights initialization"
      ],
      "metadata": {
        "id": "ixTkzKaPNXku"
      }
    },
    {
      "cell_type": "code",
      "source": [
        "model = GPT(GPTConfig())\n",
        "model.eval() # put it in evaluation mode as in inference\n",
        "model.to('cuda') # move the model to GPU\n",
        "\n",
        "torch.manual_seed(42)\n",
        "torch.cuda.manual_seed(42)\n",
        "while x.size(1) < max_length:\n",
        "  # forward the model to get the logits\n",
        "  with torch.no_grad():\n",
        "    logits = model(x) # (B, T, vocab_size)\n",
        "    # take the logits at the last position\n",
        "    logits = logits[:, -1, :] # (B, vocab_size)\n",
        "    # apply softmax to get probabilities\n",
        "    probs = F.softmax(logits, dim=-1) # (B, vocab_size)\n",
        "    # do top-k sampling of 50 (huggingface pipeline default)\n",
        "    # topk_probs here becomes (5, 50), topk_indices is (5, 50)\n",
        "    topk_probs, topk_indices = torch.topk(probs, k=50, dim=-1)\n",
        "    # select a token from the top-k probabilities\n",
        "    ix = torch.multinomial(topk_probs, num_samples=1) # (B, 1)\n",
        "    # gather the corresponding indices\n",
        "    xcol = torch.gather(topk_indices, dim=-1, index=ix) # (B, 1)\n",
        "    # append the token to the sequence\n",
        "    x = torch.cat((x, xcol), dim=1) # (B, T+1)\n",
        "\n",
        "for i in range(num_return_sequences):\n",
        "  tokens = x[i, :max_length].tolist()\n",
        "  decoded = enc.decode(tokens)\n",
        "  print(\"> \", decoded)"
      ],
      "metadata": {
        "colab": {
          "base_uri": "https://localhost:8080/"
        },
        "id": "kQpBfTTtLxPK",
        "outputId": "55590a85-22ce-4cb2-dcf3-e0cc802a41fb"
      },
      "execution_count": 51,
      "outputs": [
        {
          "output_type": "stream",
          "name": "stdout",
          "text": [
            ">  Hello, I am a language model,  and that is what I will describe about Python. Let me just note a few examples.  \n",
            ">  Hello, I am a language model, iphone , and a human, no matter where those \"isms\" overlap.\n",
            "The way to express\n",
            ">  Hello, I am a language model, !!!\n",
            "\n",
            "Please remember - any way you think you can express it.\n",
            "\n",
            "~The author\n",
            "\n",
            ">  Hello, I am a language model,  (more or less)  a self-contained collection of code, usually compiled by a C\n",
            ">  Hello, I am a language model,  so it must be well-trained. And how do you do that? It seems to me,\n"
          ]
        }
      ]
    },
    {
      "cell_type": "markdown",
      "source": [
        "## how to detect the device"
      ],
      "metadata": {
        "id": "8lhmmw79OD0y"
      }
    },
    {
      "cell_type": "code",
      "source": [
        "device = \"cpu\"\n",
        "if torch.cuda.is_available():\n",
        "  device = \"cuda\"\n",
        "elif torch.backends.mps.is_available(): # Apple silicon faster than cpu\n",
        "  device = \"mps\"\n",
        "print(f\"using device: {device}\")"
      ],
      "metadata": {
        "colab": {
          "base_uri": "https://localhost:8080/"
        },
        "id": "XPbQhactOGKw",
        "outputId": "26e58c7c-73b8-4cef-c3fa-8a4f303a2b03"
      },
      "execution_count": 53,
      "outputs": [
        {
          "output_type": "stream",
          "name": "stdout",
          "text": [
            "using device: cuda\n"
          ]
        }
      ]
    },
    {
      "cell_type": "code",
      "source": [],
      "metadata": {
        "id": "NbwMiSvpOOJ4"
      },
      "execution_count": null,
      "outputs": []
    }
  ]
}